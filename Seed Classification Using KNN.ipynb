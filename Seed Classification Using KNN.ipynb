{
 "cells": [
  {
   "cell_type": "markdown",
   "metadata": {},
   "source": [
    "<h3> A hands-on Introduction to Data Science - Try it Yourself 5.6 Classification </h3>"
   ]
  },
  {
   "cell_type": "markdown",
   "metadata": {},
   "source": [
    "Importing required libraries"
   ]
  },
  {
   "cell_type": "code",
   "execution_count": 1,
   "metadata": {},
   "outputs": [],
   "source": [
    "import numpy as np\n",
    "import pandas as pd\n",
    "import matplotlib.pyplot as plt\n",
    "from sklearn.neighbors import KNeighborsClassifier\n",
    "from sklearn.model_selection import train_test_split"
   ]
  },
  {
   "cell_type": "markdown",
   "metadata": {},
   "source": [
    "Getting data"
   ]
  },
  {
   "cell_type": "code",
   "execution_count": 6,
   "metadata": {},
   "outputs": [],
   "source": [
    "df = pd.read_csv(\"seeds.csv\", sep='\\t', header=None, random_state = 42)"
   ]
  },
  {
   "cell_type": "markdown",
   "metadata": {},
   "source": [
    "Analyzing data"
   ]
  },
  {
   "cell_type": "code",
   "execution_count": 19,
   "metadata": {},
   "outputs": [
    {
     "data": {
      "text/html": [
       "<div>\n",
       "<style scoped>\n",
       "    .dataframe tbody tr th:only-of-type {\n",
       "        vertical-align: middle;\n",
       "    }\n",
       "\n",
       "    .dataframe tbody tr th {\n",
       "        vertical-align: top;\n",
       "    }\n",
       "\n",
       "    .dataframe thead th {\n",
       "        text-align: right;\n",
       "    }\n",
       "</style>\n",
       "<table border=\"1\" class=\"dataframe\">\n",
       "  <thead>\n",
       "    <tr style=\"text-align: right;\">\n",
       "      <th></th>\n",
       "      <th>0</th>\n",
       "      <th>1</th>\n",
       "      <th>2</th>\n",
       "      <th>3</th>\n",
       "      <th>4</th>\n",
       "      <th>5</th>\n",
       "      <th>6</th>\n",
       "      <th>7</th>\n",
       "    </tr>\n",
       "  </thead>\n",
       "  <tbody>\n",
       "    <tr>\n",
       "      <th>0</th>\n",
       "      <td>15.26</td>\n",
       "      <td>14.84</td>\n",
       "      <td>0.8710</td>\n",
       "      <td>5.763</td>\n",
       "      <td>3.312</td>\n",
       "      <td>2.221</td>\n",
       "      <td>5.220</td>\n",
       "      <td>1</td>\n",
       "    </tr>\n",
       "    <tr>\n",
       "      <th>1</th>\n",
       "      <td>14.88</td>\n",
       "      <td>14.57</td>\n",
       "      <td>0.8811</td>\n",
       "      <td>5.554</td>\n",
       "      <td>3.333</td>\n",
       "      <td>1.018</td>\n",
       "      <td>4.956</td>\n",
       "      <td>1</td>\n",
       "    </tr>\n",
       "    <tr>\n",
       "      <th>2</th>\n",
       "      <td>14.29</td>\n",
       "      <td>14.09</td>\n",
       "      <td>0.9050</td>\n",
       "      <td>5.291</td>\n",
       "      <td>3.337</td>\n",
       "      <td>2.699</td>\n",
       "      <td>4.825</td>\n",
       "      <td>1</td>\n",
       "    </tr>\n",
       "    <tr>\n",
       "      <th>3</th>\n",
       "      <td>13.84</td>\n",
       "      <td>13.94</td>\n",
       "      <td>0.8955</td>\n",
       "      <td>5.324</td>\n",
       "      <td>3.379</td>\n",
       "      <td>2.259</td>\n",
       "      <td>4.805</td>\n",
       "      <td>1</td>\n",
       "    </tr>\n",
       "    <tr>\n",
       "      <th>4</th>\n",
       "      <td>16.14</td>\n",
       "      <td>14.99</td>\n",
       "      <td>0.9034</td>\n",
       "      <td>5.658</td>\n",
       "      <td>3.562</td>\n",
       "      <td>1.355</td>\n",
       "      <td>5.175</td>\n",
       "      <td>1</td>\n",
       "    </tr>\n",
       "  </tbody>\n",
       "</table>\n",
       "</div>"
      ],
      "text/plain": [
       "       0      1       2      3      4      5      6  7\n",
       "0  15.26  14.84  0.8710  5.763  3.312  2.221  5.220  1\n",
       "1  14.88  14.57  0.8811  5.554  3.333  1.018  4.956  1\n",
       "2  14.29  14.09  0.9050  5.291  3.337  2.699  4.825  1\n",
       "3  13.84  13.94  0.8955  5.324  3.379  2.259  4.805  1\n",
       "4  16.14  14.99  0.9034  5.658  3.562  1.355  5.175  1"
      ]
     },
     "execution_count": 19,
     "metadata": {},
     "output_type": "execute_result"
    }
   ],
   "source": [
    "df.head()"
   ]
  },
  {
   "cell_type": "code",
   "execution_count": 20,
   "metadata": {},
   "outputs": [
    {
     "data": {
      "text/html": [
       "<div>\n",
       "<style scoped>\n",
       "    .dataframe tbody tr th:only-of-type {\n",
       "        vertical-align: middle;\n",
       "    }\n",
       "\n",
       "    .dataframe tbody tr th {\n",
       "        vertical-align: top;\n",
       "    }\n",
       "\n",
       "    .dataframe thead th {\n",
       "        text-align: right;\n",
       "    }\n",
       "</style>\n",
       "<table border=\"1\" class=\"dataframe\">\n",
       "  <thead>\n",
       "    <tr style=\"text-align: right;\">\n",
       "      <th></th>\n",
       "      <th>0</th>\n",
       "      <th>1</th>\n",
       "      <th>2</th>\n",
       "      <th>3</th>\n",
       "      <th>4</th>\n",
       "      <th>5</th>\n",
       "      <th>6</th>\n",
       "      <th>7</th>\n",
       "    </tr>\n",
       "  </thead>\n",
       "  <tbody>\n",
       "    <tr>\n",
       "      <th>count</th>\n",
       "      <td>210.000000</td>\n",
       "      <td>210.000000</td>\n",
       "      <td>210.000000</td>\n",
       "      <td>210.000000</td>\n",
       "      <td>210.000000</td>\n",
       "      <td>210.000000</td>\n",
       "      <td>210.000000</td>\n",
       "      <td>210.000000</td>\n",
       "    </tr>\n",
       "    <tr>\n",
       "      <th>mean</th>\n",
       "      <td>14.847524</td>\n",
       "      <td>14.559286</td>\n",
       "      <td>0.870999</td>\n",
       "      <td>5.628533</td>\n",
       "      <td>3.258605</td>\n",
       "      <td>3.700201</td>\n",
       "      <td>5.408071</td>\n",
       "      <td>2.000000</td>\n",
       "    </tr>\n",
       "    <tr>\n",
       "      <th>std</th>\n",
       "      <td>2.909699</td>\n",
       "      <td>1.305959</td>\n",
       "      <td>0.023629</td>\n",
       "      <td>0.443063</td>\n",
       "      <td>0.377714</td>\n",
       "      <td>1.503557</td>\n",
       "      <td>0.491480</td>\n",
       "      <td>0.818448</td>\n",
       "    </tr>\n",
       "    <tr>\n",
       "      <th>min</th>\n",
       "      <td>10.590000</td>\n",
       "      <td>12.410000</td>\n",
       "      <td>0.808100</td>\n",
       "      <td>4.899000</td>\n",
       "      <td>2.630000</td>\n",
       "      <td>0.765100</td>\n",
       "      <td>4.519000</td>\n",
       "      <td>1.000000</td>\n",
       "    </tr>\n",
       "    <tr>\n",
       "      <th>25%</th>\n",
       "      <td>12.270000</td>\n",
       "      <td>13.450000</td>\n",
       "      <td>0.856900</td>\n",
       "      <td>5.262250</td>\n",
       "      <td>2.944000</td>\n",
       "      <td>2.561500</td>\n",
       "      <td>5.045000</td>\n",
       "      <td>1.000000</td>\n",
       "    </tr>\n",
       "    <tr>\n",
       "      <th>50%</th>\n",
       "      <td>14.355000</td>\n",
       "      <td>14.320000</td>\n",
       "      <td>0.873450</td>\n",
       "      <td>5.523500</td>\n",
       "      <td>3.237000</td>\n",
       "      <td>3.599000</td>\n",
       "      <td>5.223000</td>\n",
       "      <td>2.000000</td>\n",
       "    </tr>\n",
       "    <tr>\n",
       "      <th>75%</th>\n",
       "      <td>17.305000</td>\n",
       "      <td>15.715000</td>\n",
       "      <td>0.887775</td>\n",
       "      <td>5.979750</td>\n",
       "      <td>3.561750</td>\n",
       "      <td>4.768750</td>\n",
       "      <td>5.877000</td>\n",
       "      <td>3.000000</td>\n",
       "    </tr>\n",
       "    <tr>\n",
       "      <th>max</th>\n",
       "      <td>21.180000</td>\n",
       "      <td>17.250000</td>\n",
       "      <td>0.918300</td>\n",
       "      <td>6.675000</td>\n",
       "      <td>4.033000</td>\n",
       "      <td>8.456000</td>\n",
       "      <td>6.550000</td>\n",
       "      <td>3.000000</td>\n",
       "    </tr>\n",
       "  </tbody>\n",
       "</table>\n",
       "</div>"
      ],
      "text/plain": [
       "                0           1           2           3           4           5  \\\n",
       "count  210.000000  210.000000  210.000000  210.000000  210.000000  210.000000   \n",
       "mean    14.847524   14.559286    0.870999    5.628533    3.258605    3.700201   \n",
       "std      2.909699    1.305959    0.023629    0.443063    0.377714    1.503557   \n",
       "min     10.590000   12.410000    0.808100    4.899000    2.630000    0.765100   \n",
       "25%     12.270000   13.450000    0.856900    5.262250    2.944000    2.561500   \n",
       "50%     14.355000   14.320000    0.873450    5.523500    3.237000    3.599000   \n",
       "75%     17.305000   15.715000    0.887775    5.979750    3.561750    4.768750   \n",
       "max     21.180000   17.250000    0.918300    6.675000    4.033000    8.456000   \n",
       "\n",
       "                6           7  \n",
       "count  210.000000  210.000000  \n",
       "mean     5.408071    2.000000  \n",
       "std      0.491480    0.818448  \n",
       "min      4.519000    1.000000  \n",
       "25%      5.045000    1.000000  \n",
       "50%      5.223000    2.000000  \n",
       "75%      5.877000    3.000000  \n",
       "max      6.550000    3.000000  "
      ]
     },
     "execution_count": 20,
     "metadata": {},
     "output_type": "execute_result"
    }
   ],
   "source": [
    "df.describe()"
   ]
  },
  {
   "cell_type": "markdown",
   "metadata": {},
   "source": [
    "The last column has 3 values for seed classification - 1) Kama 2) Rosa 3) Canadian"
   ]
  },
  {
   "cell_type": "markdown",
   "metadata": {},
   "source": [
    "Using train-test-split for better testing"
   ]
  },
  {
   "cell_type": "code",
   "execution_count": 13,
   "metadata": {},
   "outputs": [
    {
     "data": {
      "text/plain": [
       "'\\nclassifier = KNeighborsClassifier(n_neighbors = 5)\\nclassifier.fit(X_train, np.ravel(y_train))\\n\\nclassifier.predict(X_test)\\nprint(classifier.score(X_test, y_test))\\n'"
      ]
     },
     "execution_count": 13,
     "metadata": {},
     "output_type": "execute_result"
    }
   ],
   "source": [
    "X_train, X_test, y_train, y_test = train_test_split(df[[0, 1, 2, 3, 4, 5, 6]], df[[7]], test_size = 0.3)\n",
    "\n",
    "# Testing for K value of 5\n",
    "'''\n",
    "classifier = KNeighborsClassifier(n_neighbors = 5)\n",
    "classifier.fit(X_train, np.ravel(y_train))\n",
    "\n",
    "classifier.predict(X_test)\n",
    "print(classifier.score(X_test, y_test))\n",
    "'''\n",
    "# The k value of 5 yields an accuracy between 87% to 92%."
   ]
  },
  {
   "cell_type": "markdown",
   "metadata": {},
   "source": [
    "Using k-nearest neighbor model to predict classification of seeds by testing every value of k from 1 to 50"
   ]
  },
  {
   "cell_type": "code",
   "execution_count": 9,
   "metadata": {},
   "outputs": [
    {
     "name": "stdout",
     "output_type": "stream",
     "text": [
      "K =  1\n",
      "Accuracy =  0.9365079365079365\n",
      "*******************************************************\n",
      "K =  2\n",
      "Accuracy =  0.873015873015873\n",
      "*******************************************************\n",
      "K =  3\n",
      "Accuracy =  0.873015873015873\n",
      "*******************************************************\n",
      "K =  4\n",
      "Accuracy =  0.873015873015873\n",
      "*******************************************************\n",
      "K =  5\n",
      "Accuracy =  0.9206349206349206\n",
      "*******************************************************\n",
      "K =  6\n",
      "Accuracy =  0.8888888888888888\n",
      "*******************************************************\n",
      "K =  7\n",
      "Accuracy =  0.9365079365079365\n",
      "*******************************************************\n",
      "K =  8\n",
      "Accuracy =  0.9206349206349206\n",
      "*******************************************************\n",
      "K =  9\n",
      "Accuracy =  0.9365079365079365\n",
      "*******************************************************\n",
      "K =  10\n",
      "Accuracy =  0.9047619047619048\n",
      "*******************************************************\n",
      "K =  11\n",
      "Accuracy =  0.8888888888888888\n",
      "*******************************************************\n",
      "K =  12\n",
      "Accuracy =  0.9047619047619048\n",
      "*******************************************************\n",
      "K =  13\n",
      "Accuracy =  0.9047619047619048\n",
      "*******************************************************\n",
      "K =  14\n",
      "Accuracy =  0.9047619047619048\n",
      "*******************************************************\n",
      "K =  15\n",
      "Accuracy =  0.9206349206349206\n",
      "*******************************************************\n",
      "K =  16\n",
      "Accuracy =  0.9047619047619048\n",
      "*******************************************************\n",
      "K =  17\n",
      "Accuracy =  0.9047619047619048\n",
      "*******************************************************\n",
      "K =  18\n",
      "Accuracy =  0.9047619047619048\n",
      "*******************************************************\n",
      "K =  19\n",
      "Accuracy =  0.9047619047619048\n",
      "*******************************************************\n",
      "K =  20\n",
      "Accuracy =  0.9047619047619048\n",
      "*******************************************************\n",
      "K =  21\n",
      "Accuracy =  0.9047619047619048\n",
      "*******************************************************\n",
      "K =  22\n",
      "Accuracy =  0.9047619047619048\n",
      "*******************************************************\n",
      "K =  23\n",
      "Accuracy =  0.9365079365079365\n",
      "*******************************************************\n",
      "K =  24\n",
      "Accuracy =  0.9365079365079365\n",
      "*******************************************************\n",
      "K =  25\n",
      "Accuracy =  0.9365079365079365\n",
      "*******************************************************\n",
      "K =  26\n",
      "Accuracy =  0.9206349206349206\n",
      "*******************************************************\n",
      "K =  27\n",
      "Accuracy =  0.9206349206349206\n",
      "*******************************************************\n",
      "K =  28\n",
      "Accuracy =  0.9047619047619048\n",
      "*******************************************************\n",
      "K =  29\n",
      "Accuracy =  0.9047619047619048\n",
      "*******************************************************\n",
      "K =  30\n",
      "Accuracy =  0.9047619047619048\n",
      "*******************************************************\n",
      "K =  31\n",
      "Accuracy =  0.9047619047619048\n",
      "*******************************************************\n",
      "K =  32\n",
      "Accuracy =  0.8888888888888888\n",
      "*******************************************************\n",
      "K =  33\n",
      "Accuracy =  0.9047619047619048\n",
      "*******************************************************\n",
      "K =  34\n",
      "Accuracy =  0.8888888888888888\n",
      "*******************************************************\n",
      "K =  35\n",
      "Accuracy =  0.9047619047619048\n",
      "*******************************************************\n",
      "K =  36\n",
      "Accuracy =  0.9047619047619048\n",
      "*******************************************************\n",
      "K =  37\n",
      "Accuracy =  0.9047619047619048\n",
      "*******************************************************\n",
      "K =  38\n",
      "Accuracy =  0.9047619047619048\n",
      "*******************************************************\n",
      "K =  39\n",
      "Accuracy =  0.9047619047619048\n",
      "*******************************************************\n",
      "K =  40\n",
      "Accuracy =  0.9047619047619048\n",
      "*******************************************************\n",
      "K =  41\n",
      "Accuracy =  0.9047619047619048\n",
      "*******************************************************\n",
      "K =  42\n",
      "Accuracy =  0.9047619047619048\n",
      "*******************************************************\n",
      "K =  43\n",
      "Accuracy =  0.9047619047619048\n",
      "*******************************************************\n",
      "K =  44\n",
      "Accuracy =  0.9047619047619048\n",
      "*******************************************************\n",
      "K =  45\n",
      "Accuracy =  0.9047619047619048\n",
      "*******************************************************\n",
      "K =  46\n",
      "Accuracy =  0.9047619047619048\n",
      "*******************************************************\n",
      "K =  47\n",
      "Accuracy =  0.9047619047619048\n",
      "*******************************************************\n",
      "K =  48\n",
      "Accuracy =  0.9047619047619048\n",
      "*******************************************************\n",
      "K =  49\n",
      "Accuracy =  0.9047619047619048\n",
      "*******************************************************\n",
      "K =  50\n",
      "Accuracy =  0.9047619047619048\n",
      "*******************************************************\n"
     ]
    }
   ],
   "source": [
    "results = []\n",
    "for k in range(1, 51):\n",
    "    classifier = KNeighborsClassifier(n_neighbors = k)\n",
    "    classifier.fit(X_train, np.ravel(y_train))\n",
    "    classifier.predict(X_test)\n",
    "    \n",
    "    accuracy = classifier.score(X_test, y_test)\n",
    "    print(\"K = \", k)\n",
    "    print(\"Accuracy = \", accuracy)\n",
    "    print(\"*******************************************************\")\n",
    "    \n",
    "    results.append([k, accuracy])"
   ]
  },
  {
   "cell_type": "markdown",
   "metadata": {},
   "source": [
    "Adding results into panda DataFrame"
   ]
  },
  {
   "cell_type": "code",
   "execution_count": 10,
   "metadata": {},
   "outputs": [],
   "source": [
    "results = pd.DataFrame(results, columns = [\"k\", \"accuracy\"])"
   ]
  },
  {
   "cell_type": "markdown",
   "metadata": {},
   "source": [
    "Plotting final results"
   ]
  },
  {
   "cell_type": "code",
   "execution_count": 11,
   "metadata": {},
   "outputs": [
    {
     "data": {
      "image/png": "[encoded data removed]",
      "text/plain": [
       "<Figure size 432x288 with 1 Axes>"
      ]
     },
     "metadata": {
      "needs_background": "light"
     },
     "output_type": "display_data"
    }
   ],
   "source": [
    "plt.plot(results.k, results.accuracy)\n",
    "plt.title(\"Value of k and corresponding classification accuracy\")\n",
    "plt.xlabel('Value of k')\n",
    "plt.ylabel('Accuracy (Percentage %)')\n",
    "plt.show()"
   ]
  },
  {
   "cell_type": "code",
   "execution_count": null,
   "metadata": {},
   "outputs": [],
   "source": []
  }
 ],
 "metadata": {
  "kernelspec": {
   "display_name": "Python 3",
   "language": "python",
   "name": "python3"
  },
  "language_info": {
   "codemirror_mode": {
    "name": "ipython",
    "version": 3
   },
   "file_extension": ".py",
   "mimetype": "text/x-python",
   "name": "python",
   "nbconvert_exporter": "python",
   "pygments_lexer": "ipython3",
   "version": "3.8.5"
  }
 },
 "nbformat": 4,
 "nbformat_minor": 4
}
